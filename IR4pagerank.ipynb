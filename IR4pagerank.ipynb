{
 "cells": [
  {
   "cell_type": "code",
   "execution_count": 24,
   "id": "f2f7c4e6-0bdc-475e-a822-997f41857f7e",
   "metadata": {},
   "outputs": [],
   "source": [
    "import numpy as np\n",
    "import matplotlib.pyplot as plt"
   ]
  },
  {
   "cell_type": "code",
   "execution_count": 25,
   "id": "ddc75704-d2d1-4a8a-a788-c5975cf03b39",
   "metadata": {},
   "outputs": [],
   "source": [
    "web_graph = {\n",
    "'A': ['B', 'C'],\n",
    "'B': ['C', 'D'],\n",
    "'C': ['A', 'D'],\n",
    "'D': ['C'],\n",
    "'E': ['A', 'D'],\n",
    "}\n"
   ]
  },
  {
   "cell_type": "code",
   "execution_count": 26,
   "id": "ff914c9e-a345-4562-9b81-2fa64df1f89e",
   "metadata": {},
   "outputs": [],
   "source": [
    "def pagerank(graph, d=0.85, tol=1e-6, max_iter=100):\n",
    "    # Initialize ranks\n",
    "    n = len(graph)\n",
    "    ranks = {page: 1 / n for page in graph}  # Initial rank for all pages\n",
    "\n",
    "    for _ in range(max_iter):\n",
    "        new_ranks = {}\n",
    "        for page in graph:\n",
    "            # Calculate rank contributions from other pages linking to 'page'\n",
    "            rank_sum = sum(ranks[other_page] / len(graph[other_page]) \n",
    "                           for other_page in graph if page in graph[other_page])\n",
    "            # Update rank for 'page' using the PageRank formula\n",
    "            new_ranks[page] = (1 - d) / n + d * rank_sum\n",
    "\n",
    "        # Check for convergence\n",
    "        if max(abs(new_ranks[page] - ranks[page]) for page in graph) < tol:\n",
    "            break\n",
    "        ranks = new_ranks  # Update ranks for the next iteration\n",
    "\n",
    "    return ranks\n"
   ]
  },
  {
   "cell_type": "code",
   "execution_count": 27,
   "id": "d537b967-0bd7-4ec4-bba2-bef1f288a4fb",
   "metadata": {},
   "outputs": [],
   "source": [
    " pagerank_scores = pagerank(web_graph)"
   ]
  },
  {
   "cell_type": "code",
   "execution_count": 28,
   "id": "226af5e3-a02d-47e3-9b79-ac503f14c498",
   "metadata": {},
   "outputs": [],
   "source": [
    " sorted_pagerank = sorted(pagerank_scores.items(), key=lambda x: x[1],reverse=True)"
   ]
  },
  {
   "cell_type": "code",
   "execution_count": 29,
   "id": "043b8477-5431-4a67-8320-895343d7ab2c",
   "metadata": {},
   "outputs": [
    {
     "name": "stdout",
     "output_type": "stream",
     "text": [
      "PageRank Scores:\n",
      "Page C: 0.3871\n",
      "Page D: 0.2575\n",
      "Page A: 0.2073\n",
      "Page B: 0.1181\n",
      "Page E: 0.0300\n"
     ]
    }
   ],
   "source": [
    "print(\"PageRank Scores:\")\n",
    "for page, score in sorted_pagerank:\n",
    "    print(f\"Page {page}: {score:.4f}\")\n"
   ]
  },
  {
   "cell_type": "code",
   "execution_count": 30,
   "id": "e9bb0469-3934-453d-8887-3d306f659342",
   "metadata": {},
   "outputs": [],
   "source": [
    "\n",
    "\n",
    "def visualize_graph(graph, ranks):\n",
    "    # Define positions for the nodes (pages) in the graph\n",
    "    positions = {\n",
    "        'A': (1, 2),\n",
    "        'B': (2, 3),\n",
    "        'C': (3, 2),\n",
    "        'D': (2, 1),\n",
    "        'E': (0, 1.5),\n",
    "    }\n",
    "\n",
    "    fig, ax = plt.subplots()\n",
    "\n",
    "    # Plot nodes (web pages) with sizes based on PageRank scores\n",
    "    for page, (x, y) in positions.items():\n",
    "        ax.scatter(x, y, s=ranks[page] * 2000, color='skyblue',\n",
    "                   edgecolors='black', zorder=2)\n",
    "        ax.text(x, y, page, fontsize=10, ha='center', va='center', zorder=3)\n",
    "\n",
    "    # Plot edges (links between pages)\n",
    "    for page, links in graph.items():\n",
    "        for link in links:\n",
    "            start_pos = positions[page]\n",
    "            end_pos = positions[link]\n",
    "            ax.annotate(\"\", xy=end_pos, xytext=start_pos,\n",
    "                        arrowprops=dict(arrowstyle=\"->\", color='gray', lw=1))\n",
    "\n",
    "    ax.set_xlim(-1, 4)\n",
    "    ax.set_ylim(0, 4)\n",
    "    ax.axis('off')  # Remove axis for better visual appearance\n",
    "    plt.show()\n"
   ]
  },
  {
   "cell_type": "code",
   "execution_count": 31,
   "id": "c3291a5e-3319-4999-bbc7-a345f6069ce9",
   "metadata": {},
   "outputs": [
    {
     "data": {
      "image/png": "[encoded data removed]",
      "text/plain": [
       "<Figure size 640x480 with 1 Axes>"
      ]
     },
     "metadata": {},
     "output_type": "display_data"
    }
   ],
   "source": [
    "visualize_graph(web_graph, pagerank_scores)"
   ]
  },
  {
   "cell_type": "code",
   "execution_count": null,
   "id": "12f9c988-1b16-4a86-9132-10da95a0c52a",
   "metadata": {},
   "outputs": [],
   "source": []
  }
 ],
 "metadata": {
  "kernelspec": {
   "display_name": "Python 3 (ipykernel)",
   "language": "python",
   "name": "python3"
  },
  "language_info": {
   "codemirror_mode": {
    "name": "ipython",
    "version": 3
   },
   "file_extension": ".py",
   "mimetype": "text/x-python",
   "name": "python",
   "nbconvert_exporter": "python",
   "pygments_lexer": "ipython3",
   "version": "3.12.5"
  }
 },
 "nbformat": 4,
 "nbformat_minor": 5
}

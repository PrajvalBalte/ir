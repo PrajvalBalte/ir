{
 "cells": [
  {
   "cell_type": "code",
   "execution_count": 7,
   "id": "356fd5a0-15f1-4da6-8b76-2830becf556f",
   "metadata": {},
   "outputs": [],
   "source": [
    "import requests\n",
    "from bs4 import BeautifulSoup\n",
    "import pandas as pd\n",
    "import time"
   ]
  },
  {
   "cell_type": "code",
   "execution_count": 8,
   "id": "9ecfe742-6b24-452f-b86f-e06242bc7fdb",
   "metadata": {},
   "outputs": [],
   "source": [
    "# Step 1: Choose the e-commerce website URL (Books to Scrape)\n",
    "url = 'https://books.toscrape.com/'"
   ]
  },
  {
   "cell_type": "code",
   "execution_count": 9,
   "id": "599b87b3-8900-4594-bfb2-4ee93267a8b5",
   "metadata": {},
   "outputs": [],
   "source": [
    "# Step 2: Send an HTTP request and parse the HTML\n",
    "response = requests.get(url)\n",
    "soup = BeautifulSoup(response.text, 'html.parser')"
   ]
  },
  {
   "cell_type": "code",
   "execution_count": 10,
   "id": "68afd550-d2e7-434e-9f34-fc9132886889",
   "metadata": {},
   "outputs": [],
   "source": [
    "# Step 3: Extract book information (title, price, and link)\n",
    "books = []\n",
    "for item in soup.find_all('article', class_='product_pod'):\n",
    " # Get book title\n",
    " title = item.find('h3').text.strip()\n",
    " \n",
    " # Get book link\n",
    " link = item.find('a')['href']\n",
    " link = 'https://books.toscrape.com/' + link # Add base URL to complete the lin\n",
    " \n",
    " # Get book price\n",
    " price = item.find('p', class_='price_color').text.strip()\n",
    " \n",
    " # Append the extracted data into the books list\n",
    " books.append({\n",
    " 'Book_Title': title,\n",
    " 'Price': price,\n",
    " 'Book_Link': link\n",
    " })"
   ]
  },
  {
   "cell_type": "code",
   "execution_count": 11,
   "id": "07fb2255-9b11-48a4-8344-05c06cb161aa",
   "metadata": {},
   "outputs": [
    {
     "name": "stdout",
     "output_type": "stream",
     "text": [
      "                     Book_Title    Price  \\\n",
      "0            A Light in the ...  Â£51.77   \n",
      "1            Tipping the Velvet  Â£53.74   \n",
      "2                    Soumission  Â£50.10   \n",
      "3                 Sharp Objects  Â£47.82   \n",
      "4  Sapiens: A Brief History ...  Â£54.23   \n",
      "\n",
      "                                           Book_Link  \n",
      "0  https://books.toscrape.com/catalogue/a-light-i...  \n",
      "1  https://books.toscrape.com/catalogue/tipping-t...  \n",
      "2  https://books.toscrape.com/catalogue/soumissio...  \n",
      "3  https://books.toscrape.com/catalogue/sharp-obj...  \n",
      "4  https://books.toscrape.com/catalogue/sapiens-a...  \n"
     ]
    }
   ],
   "source": [
    "# Step 4: Create a DataFrame from the extracted data\n",
    "df = pd.DataFrame(books)\n",
    "# Step 5: Print the DataFrame to check the output\n",
    "print(df.head())\n"
   ]
  },
  {
   "cell_type": "code",
   "execution_count": 12,
   "id": "d424bcc5-9f68-49ae-8c79-7a8831a2173b",
   "metadata": {},
   "outputs": [
    {
     "name": "stdout",
     "output_type": "stream",
     "text": [
      "20 books extracted and saved to books.csv.\n"
     ]
    }
   ],
   "source": [
    "# Step 6: Save the DataFrame to a CSV file\n",
    "df.to_csv('books.csv', index=False, encoding='utf-8')\n",
    "print(f'{len(books)} books extracted and saved to books.csv.')"
   ]
  },
  {
   "cell_type": "code",
   "execution_count": null,
   "id": "d803c2bc-7217-4ec1-a72c-2557cd13eaa2",
   "metadata": {},
   "outputs": [],
   "source": []
  }
 ],
 "metadata": {
  "kernelspec": {
   "display_name": "Python 3 (ipykernel)",
   "language": "python",
   "name": "python3"
  },
  "language_info": {
   "codemirror_mode": {
    "name": "ipython",
    "version": 3
   },
   "file_extension": ".py",
   "mimetype": "text/x-python",
   "name": "python",
   "nbconvert_exporter": "python",
   "pygments_lexer": "ipython3",
   "version": "3.12.5"
  }
 },
 "nbformat": 4,
 "nbformat_minor": 5
}
